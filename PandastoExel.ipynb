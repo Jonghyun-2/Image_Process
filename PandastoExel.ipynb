{
 "cells": [
  {
   "cell_type": "code",
   "execution_count": 1,
   "metadata": {},
   "outputs": [],
   "source": [
    "#dic1 = {'name' : 'amanda', 'Age' : '24'}\n",
    "# dic2 = {'name' : 'papa', 'Age' : '27'}\n",
    "# dic3 = {'name' : 'mara', 'Age' : '21'}\n",
    "# dic4 = {'name' : 'gini', 'Age' : '15'}\n",
    "# dic5 = {'name' : 'pepe', 'Age' : '22'}\n",
    "# dic6 = {'name' : 'rere', 'Age' : '23'}\n",
    "# dic7 = {'name' : 'lulu', 'Age' : '19'}\n",
    "# dic8 = {'name' : 'gongru', 'Age' : '16'}\n",
    "# dic9 = {'name' : 'giali', 'Age' : '29'}\n",
    "# dic10 = {'name' : 'maria', 'Age' : '30'}\n",
    "dic = {'amanda' : '24', 'papa' : '27', 'mara' : '21', 'gini' : '15',\n",
    "       'pepe' : '22', 'rere' : '23', 'lulu' : '19', 'gongru' : '16', \n",
    "      'giali' : '29', 'maria' : '30'}"
   ]
  },
  {
   "cell_type": "code",
   "execution_count": 2,
   "metadata": {},
   "outputs": [],
   "source": [
    "import pandas as pd"
   ]
  },
  {
   "cell_type": "code",
   "execution_count": 3,
   "metadata": {},
   "outputs": [],
   "source": [
    "import numpy as np\n",
    "import matplotlib.pyplot as plt"
   ]
  },
  {
   "cell_type": "code",
   "execution_count": 4,
   "metadata": {},
   "outputs": [
    {
     "data": {
      "text/plain": [
       "dict_keys(['amanda', 'papa', 'mara', 'gini', 'pepe', 'rere', 'lulu', 'gongru', 'giali', 'maria'])"
      ]
     },
     "execution_count": 4,
     "metadata": {},
     "output_type": "execute_result"
    }
   ],
   "source": [
    "dic.keys()"
   ]
  },
  {
   "cell_type": "code",
   "execution_count": 5,
   "metadata": {},
   "outputs": [
    {
     "data": {
      "text/plain": [
       "['amanda',\n",
       " 'papa',\n",
       " 'mara',\n",
       " 'gini',\n",
       " 'pepe',\n",
       " 'rere',\n",
       " 'lulu',\n",
       " 'gongru',\n",
       " 'giali',\n",
       " 'maria']"
      ]
     },
     "execution_count": 5,
     "metadata": {},
     "output_type": "execute_result"
    }
   ],
   "source": [
    "list(dic.keys())"
   ]
  },
  {
   "cell_type": "code",
   "execution_count": null,
   "metadata": {},
   "outputs": [],
   "source": []
  },
  {
   "cell_type": "code",
   "execution_count": 6,
   "metadata": {},
   "outputs": [],
   "source": [
    "df2 = pd.DataFrame({'name' : list(dic.keys()),\n",
    "                     'Age' : list(dic.values())})\n",
    "                   "
   ]
  },
  {
   "cell_type": "code",
   "execution_count": 7,
   "metadata": {},
   "outputs": [
    {
     "data": {
      "text/html": [
       "<div>\n",
       "<style scoped>\n",
       "    .dataframe tbody tr th:only-of-type {\n",
       "        vertical-align: middle;\n",
       "    }\n",
       "\n",
       "    .dataframe tbody tr th {\n",
       "        vertical-align: top;\n",
       "    }\n",
       "\n",
       "    .dataframe thead th {\n",
       "        text-align: right;\n",
       "    }\n",
       "</style>\n",
       "<table border=\"1\" class=\"dataframe\">\n",
       "  <thead>\n",
       "    <tr style=\"text-align: right;\">\n",
       "      <th></th>\n",
       "      <th>name</th>\n",
       "      <th>Age</th>\n",
       "    </tr>\n",
       "  </thead>\n",
       "  <tbody>\n",
       "    <tr>\n",
       "      <td>0</td>\n",
       "      <td>amanda</td>\n",
       "      <td>24</td>\n",
       "    </tr>\n",
       "    <tr>\n",
       "      <td>1</td>\n",
       "      <td>papa</td>\n",
       "      <td>27</td>\n",
       "    </tr>\n",
       "    <tr>\n",
       "      <td>2</td>\n",
       "      <td>mara</td>\n",
       "      <td>21</td>\n",
       "    </tr>\n",
       "    <tr>\n",
       "      <td>3</td>\n",
       "      <td>gini</td>\n",
       "      <td>15</td>\n",
       "    </tr>\n",
       "    <tr>\n",
       "      <td>4</td>\n",
       "      <td>pepe</td>\n",
       "      <td>22</td>\n",
       "    </tr>\n",
       "    <tr>\n",
       "      <td>5</td>\n",
       "      <td>rere</td>\n",
       "      <td>23</td>\n",
       "    </tr>\n",
       "    <tr>\n",
       "      <td>6</td>\n",
       "      <td>lulu</td>\n",
       "      <td>19</td>\n",
       "    </tr>\n",
       "    <tr>\n",
       "      <td>7</td>\n",
       "      <td>gongru</td>\n",
       "      <td>16</td>\n",
       "    </tr>\n",
       "    <tr>\n",
       "      <td>8</td>\n",
       "      <td>giali</td>\n",
       "      <td>29</td>\n",
       "    </tr>\n",
       "    <tr>\n",
       "      <td>9</td>\n",
       "      <td>maria</td>\n",
       "      <td>30</td>\n",
       "    </tr>\n",
       "  </tbody>\n",
       "</table>\n",
       "</div>"
      ],
      "text/plain": [
       "     name Age\n",
       "0  amanda  24\n",
       "1    papa  27\n",
       "2    mara  21\n",
       "3    gini  15\n",
       "4    pepe  22\n",
       "5    rere  23\n",
       "6    lulu  19\n",
       "7  gongru  16\n",
       "8   giali  29\n",
       "9   maria  30"
      ]
     },
     "execution_count": 7,
     "metadata": {},
     "output_type": "execute_result"
    }
   ],
   "source": [
    "df2"
   ]
  },
  {
   "cell_type": "code",
   "execution_count": 9,
   "metadata": {},
   "outputs": [],
   "source": [
    "writer = pd.ExcelWriter('chart!!!.xlsx', engine='xlsxwriter')"
   ]
  },
  {
   "cell_type": "code",
   "execution_count": 11,
   "metadata": {},
   "outputs": [],
   "source": [
    "df2.to_excel(writer, sheet_name='chart')"
   ]
  },
  {
   "cell_type": "code",
   "execution_count": 12,
   "metadata": {},
   "outputs": [],
   "source": [
    "writer.save()"
   ]
  },
  {
   "cell_type": "code",
   "execution_count": 13,
   "metadata": {},
   "outputs": [],
   "source": [
    "writer.close()"
   ]
  },
  {
   "cell_type": "code",
   "execution_count": 51,
   "metadata": {},
   "outputs": [
    {
     "data": {
      "text/plain": [
       "\u001b[1;31mInit signature:\u001b[0m \u001b[0mpd\u001b[0m\u001b[1;33m.\u001b[0m\u001b[0mExcelWriter\u001b[0m\u001b[1;33m(\u001b[0m\u001b[0mpath\u001b[0m\u001b[1;33m,\u001b[0m \u001b[0mengine\u001b[0m\u001b[1;33m=\u001b[0m\u001b[1;32mNone\u001b[0m\u001b[1;33m,\u001b[0m \u001b[1;33m**\u001b[0m\u001b[0mkwargs\u001b[0m\u001b[1;33m)\u001b[0m\u001b[1;33m\u001b[0m\u001b[1;33m\u001b[0m\u001b[0m\n",
       "\u001b[1;31mDocstring:\u001b[0m     \n",
       "Class for writing DataFrame objects into excel sheets, default is to use\n",
       "xlwt for xls, openpyxl for xlsx.  See DataFrame.to_excel for typical usage.\n",
       "\n",
       "Parameters\n",
       "----------\n",
       "path : string\n",
       "    Path to xls or xlsx file.\n",
       "engine : string (optional)\n",
       "    Engine to use for writing. If None, defaults to\n",
       "    ``io.excel.<extension>.writer``.  NOTE: can only be passed as a keyword\n",
       "    argument.\n",
       "date_format : string, default None\n",
       "    Format string for dates written into Excel files (e.g. 'YYYY-MM-DD')\n",
       "datetime_format : string, default None\n",
       "    Format string for datetime objects written into Excel files\n",
       "    (e.g. 'YYYY-MM-DD HH:MM:SS')\n",
       "mode : {'w', 'a'}, default 'w'\n",
       "    File mode to use (write or append).\n",
       "\n",
       "    .. versionadded:: 0.24.0\n",
       "\n",
       "Attributes\n",
       "----------\n",
       "None\n",
       "\n",
       "Methods\n",
       "-------\n",
       "None\n",
       "\n",
       "Notes\n",
       "-----\n",
       "None of the methods and properties are considered public.\n",
       "\n",
       "For compatibility with CSV writers, ExcelWriter serializes lists\n",
       "and dicts to strings before writing.\n",
       "\n",
       "Examples\n",
       "--------\n",
       "Default usage:\n",
       "\n",
       ">>> with ExcelWriter('path_to_file.xlsx') as writer:\n",
       "...     df.to_excel(writer)\n",
       "\n",
       "To write to separate sheets in a single file:\n",
       "\n",
       ">>> with ExcelWriter('path_to_file.xlsx') as writer:\n",
       "...     df1.to_excel(writer, sheet_name='Sheet1')\n",
       "...     df2.to_excel(writer, sheet_name='Sheet2')\n",
       "\n",
       "You can set the date format or datetime format:\n",
       "\n",
       ">>> with ExcelWriter('path_to_file.xlsx',\n",
       "                      date_format='YYYY-MM-DD',\n",
       "                      datetime_format='YYYY-MM-DD HH:MM:SS') as writer:\n",
       "...     df.to_excel(writer)\n",
       "\n",
       "You can also append to an existing Excel file:\n",
       "\n",
       ">>> with ExcelWriter('path_to_file.xlsx', mode='a') as writer:\n",
       "...     df.to_excel(writer, sheet_name='Sheet3')\n",
       "\u001b[1;31mFile:\u001b[0m           c:\\users\\user\\anaconda3\\envs\\dip\\lib\\site-packages\\pandas\\io\\excel\\_base.py\n",
       "\u001b[1;31mType:\u001b[0m           ABCMeta\n",
       "\u001b[1;31mSubclasses:\u001b[0m     _OpenpyxlWriter, _XlsxWriter, _XlwtWriter\n"
      ]
     },
     "metadata": {},
     "output_type": "display_data"
    }
   ],
   "source": [
    "pd.ExcelWriter?"
   ]
  },
  {
   "cell_type": "code",
   "execution_count": null,
   "metadata": {},
   "outputs": [],
   "source": []
  }
 ],
 "metadata": {
  "kernelspec": {
   "display_name": "Python 3",
   "language": "python",
   "name": "python3"
  },
  "language_info": {
   "codemirror_mode": {
    "name": "ipython",
    "version": 3
   },
   "file_extension": ".py",
   "mimetype": "text/x-python",
   "name": "python",
   "nbconvert_exporter": "python",
   "pygments_lexer": "ipython3",
   "version": "3.7.4"
  }
 },
 "nbformat": 4,
 "nbformat_minor": 4
}
