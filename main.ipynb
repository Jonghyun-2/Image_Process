{
 "cells": [
  {
   "cell_type": "code",
   "execution_count": 24,
   "metadata": {},
   "outputs": [],
   "source": [
    "import cv2\n",
    "import numpy as np\n",
    "import glob\n",
    "import pytesseract as OCR\n",
    "import matplotlib.pyplot as plt\n",
    "\n",
    "def onMouse(event,x,y,flags,params):\n",
    "    global ix,iy,fx,fy\n",
    "    buttonLoc()\n",
    "    if event == cv2.EVENT_LBUTTONDBLCLK:\n",
    "        if (x in but1_x) & (y in but1_y):\n",
    "            print(\"Name func\")\n",
    "        elif (x in but2_x) & (y in but2_y):\n",
    "            print(\"Age func\")\n",
    "        elif (x in but3_x) & (y in but3_y):\n",
    "            print(\"Disease func\")\n",
    "        elif (x in but4_x) & (y in but4_y):\n",
    "            print(\"symptom1 func\")\n",
    "        elif (x in but5_x) & (y in but5_y):\n",
    "            print(\"symptom2 func\")\n",
    "        elif (x in but6_x) & (y in but6_y):\n",
    "            print(\"symptom3 func\")\n",
    "        elif (x in but7_x) & (y in but7_y):\n",
    "            img_path = input('Image path : ')\n",
    "            global user_input_img\n",
    "            user_input_img = cv2.imread('./Sample_chart_img.jpg')\n",
    "            user_input_img = cv2.resize(user_input_img,(570,480))\n",
    "            user_input_img = cv2.cvtColor(user_input_img,cv2.COLOR_RGB2GRAY)\n",
    "            backgrnd[120:600,270:840] = user_input_img\n",
    "            \n",
    "        elif (x in but8_x) & (y in but8_y):\n",
    "            print(\"Otsu func\")\n",
    "            global otsu_img\n",
    "            ret, otsu_img = cv2.threshold(user_input_img, 0, 255, cv2.THRESH_BINARY+cv2.THRESH_OTSU)\n",
    "            backgrnd[120:600,270:840] = otsu_img\n",
    "            \n",
    "        elif (x in but9_x) & (y in but9_y):\n",
    "            print(\"Threshlod\")\n",
    "            global user_th_img\n",
    "            user_threshold = int(input('Threshold : '))\n",
    "            ret, user_th_img = cv2.threshold(user_input_img, user_threshold, 255, cv2.THRESH_BINARY) #cv2.threshold(img, threshold, 255, cv2.THRESH_BINARY)\n",
    "            backgrnd[120:600,270:840] = user_th_img\n",
    "            \n",
    "        elif (x in but10_x) & (y in but10_y):\n",
    "            print(\"Run func\")\n",
    "#         elif (x in but11_x) & (y in but11_y):\n",
    "#             print(\"?\")\n",
    "        else :\n",
    "            print(\"out of box\")\n",
    "            \n",
    "    if event == cv2.EVENT_RBUTTONDOWN:\n",
    "        ix,iy = x,y\n",
    "        print(\"start point : \",ix,iy)       \n",
    "\n",
    "    elif event == cv2.EVENT_RBUTTONUP:\n",
    "        fx,fy= x,y\n",
    "        print(\"end point : \",fx,fy)\n",
    "        cv2.rectangle(backgrnd,(ix,iy),(fx,fy),(100),2)\n",
    "\n",
    "    return\n",
    "\n",
    "def buttonLoc():\n",
    "    global but1_x,but1_y,but2_x,but2_y,but3_x,but3_y,but4_x,but4_y,but5_x,but5_y,but6_x,but6_y,but7_x,but7_y,but8_x,but8_y,but9_x,but9_y,but10_x,but10_y\n",
    "           \n",
    "    # Name button\n",
    "    but1_x = range(50,150) \n",
    "    but1_y = range(150,180)\n",
    "    # Age button\n",
    "    but2_x = range(50,150)\n",
    "    but2_y = range(200,230)\n",
    "    # Disease button\n",
    "    but3_x = range(50,150)\n",
    "    but3_y = range(250,280)    \n",
    "      # symptom1 button\n",
    "    but4_x = range(50,150)\n",
    "    but4_y = range(300,330)  \n",
    "      # symptom2 button\n",
    "    but5_x = range(50,150)\n",
    "    but5_y = range(350,380)  \n",
    "      # symptom3 button\n",
    "    but6_x = range(50,150)\n",
    "    but6_y = range(400,430)  \n",
    "      # image path\n",
    "    but7_x = range(400,500)\n",
    "    but7_y = range(10,40)  \n",
    "       # threshold\n",
    "    but8_x = range(350,450)\n",
    "    but8_y = range(60,90)  \n",
    "       # filtering\n",
    "    but9_x = range(550,650)\n",
    "    but9_y = range(60,90)  \n",
    "       # run\n",
    "    but10_x = range(780,880)\n",
    "    but10_y = range(650,680)\n",
    "#        # ?\n",
    "#     but11_x = range(630,730)\n",
    "#     but11_y = range(650,680)\n",
    "    return\n",
    "   \n",
    "def putText(input_img):\n",
    "    scale = 0.8\n",
    "    font = 2\n",
    "    cv2.putText(input_img,\"Name\",(but1_x[10],but1_y[-1]),font,scale,(0,0,0))\n",
    "    cv2.putText(input_img,\"Age\",(but2_x[10],but2_y[-1]),font,scale,(0,0,0))\n",
    "    cv2.putText(input_img,\"Disease\",(but3_x[5],but3_y[-1]),font,scale,(0,0,0))\n",
    "    cv2.putText(input_img,\"symptom1\",(but4_x[5],but4_y[-1]),font,scale,(0,0,0))\n",
    "    cv2.putText(input_img,\"symptom2\",(but5_x[5],but5_y[-1]),font,scale,(0,0,0))\n",
    "    cv2.putText(input_img,\"symptom3\",(but6_x[5],but6_y[-1]),font,scale,(0,0,0))\n",
    "    cv2.putText(input_img,\"Image path\",(but7_x[5],but7_y[-1]),font,scale,(0,0,0))\n",
    "    cv2.putText(input_img,\"Otsu\",(but8_x[5],but8_y[-1]),font,scale,(0,0,0))\n",
    "    cv2.putText(input_img,\"Threshold\",(but9_x[5],but9_y[-1]),font,scale,(0,0,0))\n",
    "    cv2.putText(input_img,\"Run\",(but10_x[25],but10_y[-1]),font,scale,(0,0,0))\n",
    "#     cv2.putText(input_img,\"?\",(but11_x[25],but11_y[-1]),font,scale,(0,0,0))\n",
    "    return input_img\n",
    "\n",
    "def rec_draw():\n",
    "    cv2.rectangle(backgrnd,(50,150),(150,180),(100),-1) #name\n",
    "    cv2.rectangle(backgrnd,(50,200),(150,230),(100),-1) #Age\n",
    "    cv2.rectangle(backgrnd,(50,250),(150,280),(100),-1) #Disease\n",
    "    cv2.rectangle(backgrnd,(50,300),(190,330),(100),-1) #symptom1\n",
    "    cv2.rectangle(backgrnd,(50,350),(190,380),(100),-1) #symptom2\n",
    "    cv2.rectangle(backgrnd,(50,400),(190,430),(100),-1) #symptom3\n",
    "    cv2.rectangle(backgrnd,(400,10),(560,40),(100),-1) #image path\n",
    "    cv2.rectangle(backgrnd,(350,60),(450,90),(100),-1) #Otsu\n",
    "    cv2.rectangle(backgrnd,(550,60),(670,90),(100),-1) #filtering\n",
    "    cv2.rectangle(backgrnd,(780,650),(880,680),(100),-1) #Run\n",
    "    cv2.rectangle(backgrnd,(270,120),(840,600),(100),-1) #image place\n",
    "    # cv2.rectangle(backgrnd,(580,120),(840,450),(150,150,150),-1) #list place\n",
    "    return\n"
   ]
  },
  {
   "cell_type": "code",
   "execution_count": 26,
   "metadata": {},
   "outputs": [
    {
     "name": "stdin",
     "output_type": "stream",
     "text": [
      "Image path :  123\n"
     ]
    },
    {
     "name": "stdout",
     "output_type": "stream",
     "text": [
      "Otsu func\n",
      "Threshlod\n"
     ]
    },
    {
     "name": "stdin",
     "output_type": "stream",
     "text": [
      "Threshold :  130\n"
     ]
    },
    {
     "name": "stdout",
     "output_type": "stream",
     "text": [
      "Threshlod\n"
     ]
    },
    {
     "name": "stdin",
     "output_type": "stream",
     "text": [
      "Threshold :  120\n"
     ]
    },
    {
     "name": "stdout",
     "output_type": "stream",
     "text": [
      "Threshlod\n"
     ]
    },
    {
     "name": "stdin",
     "output_type": "stream",
     "text": [
      "Threshold :  140\n"
     ]
    }
   ],
   "source": [
    "global backgrnd\n",
    "\n",
    "buttonLoc()\n",
    "rec_draw()\n",
    "backgrnd = putText(backgrnd)\n",
    "\n",
    "#이미지 띄우기\n",
    "# backgrnd[120:600,270:840] = user_input_img\n",
    "#텍스트 그리기\n",
    "\n",
    "\n",
    "cv2.namedWindow('Chart Detection') \n",
    "cv2.setMouseCallback('Chart Detection',onMouse) \n",
    "cv2.imshow(\"Chart Detection\", backgrnd)\n",
    "\n",
    "while(1): \n",
    "    cv2.imshow('Chart Detection',backgrnd) \n",
    "    if cv2.waitKey(20) & 0xFF == 32: # enter Space Bar\n",
    "#        crop_area = backgrnd[iy:fy,ix:fx,:]\n",
    "#        OCR2str_data = OCR.image_to_string(crop_area,lang='eng')\n",
    "#        print(OCR2str_data)\n",
    "#        plt.imshow(crop_area)\n",
    "        break\n",
    "    if cv2.waitKey(20) & 0xFF == 27: # enter ESC \n",
    "        break\n",
    "#    if cv2.waitKey(20) & 0xFF == 65: # enter ESC \n",
    "#        cv2.imshow(\"AAA\",user_th_img)\n",
    "#        cv2.waitKey()        \n",
    "\n",
    "cv2.destroyAllWindows()"
   ]
  },
  {
   "cell_type": "code",
   "execution_count": 33,
   "metadata": {},
   "outputs": [
    {
     "data": {
      "text/plain": [
       "<matplotlib.image.AxesImage at 0x15dedcac688>"
      ]
     },
     "execution_count": 33,
     "metadata": {},
     "output_type": "execute_result"
    },
    {
     "data": {
      "image/png": "[encoded data removed]",
      "text/plain": [
       "<Figure size 432x288 with 1 Axes>"
      ]
     },
     "metadata": {
      "needs_background": "light"
     },
     "output_type": "display_data"
    }
   ],
   "source": [
    "\n",
    "plt.imshow(a)"
   ]
  },
  {
   "cell_type": "code",
   "execution_count": 20,
   "metadata": {},
   "outputs": [
    {
     "name": "stdout",
     "output_type": "stream",
     "text": [
      "masked_img :  (530, 750)\n"
     ]
    }
   ],
   "source": [
    "chart_img = cv2.imread('./Sample_chart_img.jpg')\n",
    "\n",
    "mask = np.zeros(img.shape[:2],np.uint8)\n",
    "mask[100:600,30:730] = 255\n",
    "\n",
    "masked_img = cv2.bitwise_and(img,img,mask=mask)\n",
    "\n",
    "img = img[:,:,::-1]\n",
    "img2 = masked_img[:,:,::-1]\n",
    "\n",
    "print(\"masked_img : \", img2.shape[:2])\n",
    "cv2.imshow(\"test\",img)\n",
    "cv2.waitKey()\n",
    "cv2.destroyAllWindows()"
   ]
  },
  {
   "cell_type": "code",
   "execution_count": null,
   "metadata": {},
   "outputs": [],
   "source": [
    "mask[100:600,30:730] = 255\n",
    "\n",
    "masked_img = cv2.bitwise_and(img,img,mask=mask)"
   ]
  },
  {
   "cell_type": "code",
   "execution_count": 20,
   "metadata": {},
   "outputs": [
    {
     "ename": "NameError",
     "evalue": "name 'pd' is not defined",
     "output_type": "error",
     "traceback": [
      "\u001b[1;31m---------------------------------------------------------------------------\u001b[0m",
      "\u001b[1;31mNameError\u001b[0m                                 Traceback (most recent call last)",
      "\u001b[1;32m<ipython-input-20-9a2177f6ca79>\u001b[0m in \u001b[0;36m<module>\u001b[1;34m\u001b[0m\n\u001b[0;32m      7\u001b[0m \u001b[1;31m#excel\u001b[0m\u001b[1;33m\u001b[0m\u001b[1;33m\u001b[0m\u001b[1;33m\u001b[0m\u001b[0m\n\u001b[0;32m      8\u001b[0m \u001b[1;33m\u001b[0m\u001b[0m\n\u001b[1;32m----> 9\u001b[1;33m df2 = pd.DataFrame({'name' : list(dic.keys()),\n\u001b[0m\u001b[0;32m     10\u001b[0m                      'Age' : list(dic.values())})\n\u001b[0;32m     11\u001b[0m \u001b[1;33m\u001b[0m\u001b[0m\n",
      "\u001b[1;31mNameError\u001b[0m: name 'pd' is not defined"
     ]
    }
   ],
   "source": [
    "#img threshold\n",
    "img = cv2.imread('sample.png',cv2.IMREAD_GRAYSCALE)\n",
    "\n",
    "ret, img_result1 = cv2.threshold(img, 125, 255, cv2.THRESH_BINARY) #cv2.threshold(img, threshold, 255, cv2.THRESH_BINARY)\n",
    "ret, img_result2 = cv2.threshold(img, 0, 255, cv2.THRESH_BINARY+cv2.THRESH_OTSU)\n",
    "\n",
    "#excel\n",
    "\n",
    "df2 = pd.DataFrame({'name' : list(dic.keys()),\n",
    "                     'Age' : list(dic.values())})\n",
    "\n",
    "\n",
    "writer = pd.ExcelWriter('chart!!!.xlsx', engine='xlsxwriter')\n",
    "df2.to_excel(writer, sheet_name='chart')\n",
    "writer.save()\n",
    "writer.close()"
   ]
  },
  {
   "cell_type": "code",
   "execution_count": 21,
   "metadata": {},
   "outputs": [
    {
     "data": {
      "text/plain": [
       "0.0"
      ]
     },
     "execution_count": 21,
     "metadata": {},
     "output_type": "execute_result"
    }
   ],
   "source": [
    "ret"
   ]
  },
  {
   "cell_type": "code",
   "execution_count": null,
   "metadata": {},
   "outputs": [],
   "source": []
  }
 ],
 "metadata": {
  "kernelspec": {
   "display_name": "Python 3",
   "language": "python",
   "name": "python3"
  },
  "language_info": {
   "codemirror_mode": {
    "name": "ipython",
    "version": 3
   },
   "file_extension": ".py",
   "mimetype": "text/x-python",
   "name": "python",
   "nbconvert_exporter": "python",
   "pygments_lexer": "ipython3",
   "version": "3.6.9"
  }
 },
 "nbformat": 4,
 "nbformat_minor": 4
}
