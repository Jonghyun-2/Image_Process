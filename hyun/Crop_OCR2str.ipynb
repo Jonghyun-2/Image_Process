{
 "cells": [
  {
   "cell_type": "code",
   "execution_count": 1,
   "metadata": {},
   "outputs": [],
   "source": [
    "import cv2\n",
    "import numpy as np\n",
    "import glob\n",
    "import pytesseract as OCR\n",
    "import matplotlib.pyplot as plt"
   ]
  },
  {
   "cell_type": "code",
   "execution_count": 2,
   "metadata": {},
   "outputs": [
    {
     "data": {
      "text/plain": [
       "['..\\\\Sample_chart_img.jpg']"
      ]
     },
     "execution_count": 2,
     "metadata": {},
     "output_type": "execute_result"
    }
   ],
   "source": [
    "path = glob.glob(\"..\\\\*.jpg\")\n",
    "path"
   ]
  },
  {
   "cell_type": "code",
   "execution_count": 10,
   "metadata": {},
   "outputs": [
    {
     "name": "stdout",
     "output_type": "stream",
     "text": [
      "start point :  95 80\n",
      "end point :  209 102\n",
      "Hong Git Dong\n"
     ]
    }
   ],
   "source": [
    "rect = (0,0,1,1)\n",
    "rectangle = False\n",
    "rect_over = False  \n",
    "\n",
    "img = cv2.imread(path[0])\n",
    "def onmouse(event,x,y,flags,params):\n",
    "    global ix,iy,fx,fy\n",
    "\n",
    "    # Draw Rectangle\n",
    "    if event == cv2.EVENT_LBUTTONDOWN:\n",
    "        ix,iy = x,y\n",
    "        print(\"start point : \",ix,iy)       \n",
    "\n",
    "    elif event == cv2.EVENT_LBUTTONUP:\n",
    "        fx,fy= x,y\n",
    "        print(\"end point : \",fx,fy)\n",
    "        cv2.rectangle(img,(ix,iy),(fx,fy),(0,0,0),2)\n",
    "        \n",
    "cv2.namedWindow('image')\n",
    "cv2.setMouseCallback('image',onmouse)\n",
    "\n",
    "while(1):\n",
    "    cv2.imshow('image',img)\n",
    "    if cv2.waitKey(20) & 0xFF == 32:\n",
    "        crop_area = img[iy:fy,ix:fx,:]\n",
    "        OCR2str_data = OCR.image_to_string(crop_area,lang='eng')\n",
    "        print(OCR2str_data)\n",
    "    if cv2.waitKey(20) & 0xFF == 27:\n",
    "        break\n",
    "    \n",
    "cv2.waitKey()\n",
    "cv2.destroyAllWindows()"
   ]
  },
  {
   "cell_type": "code",
   "execution_count": 17,
   "metadata": {},
   "outputs": [
    {
     "data": {
      "text/plain": [
       "<matplotlib.image.AxesImage at 0x29ed1916c08>"
      ]
     },
     "execution_count": 17,
     "metadata": {},
     "output_type": "execute_result"
    },
    {
     "data": {
      "image/png": "[encoded data removed]",
      "text/plain": [
       "<Figure size 432x288 with 1 Axes>"
      ]
     },
     "metadata": {
      "needs_background": "light"
     },
     "output_type": "display_data"
    }
   ],
   "source": [
    "plt.imshow(crop_area[:70])"
   ]
  },
  {
   "cell_type": "code",
   "execution_count": 12,
   "metadata": {},
   "outputs": [
    {
     "data": {
      "text/plain": [
       "'3.4.1'"
      ]
     },
     "execution_count": 12,
     "metadata": {},
     "output_type": "execute_result"
    }
   ],
   "source": [
    "cv2.__version__"
   ]
  },
  {
   "cell_type": "code",
   "execution_count": null,
   "metadata": {},
   "outputs": [],
   "source": []
  },
  {
   "cell_type": "code",
   "execution_count": 3,
   "metadata": {},
   "outputs": [],
   "source": [
    "crop_area = cv2.imread(path[0], cv2.IMREAD_GRAYSCALE)\n",
    "\n",
    "OCR2str_data = OCR.image_to_string(crop_area[:70], lang='eng')"
   ]
  },
  {
   "cell_type": "code",
   "execution_count": 4,
   "metadata": {},
   "outputs": [
    {
     "data": {
      "text/plain": [
       "'Sample Chart'"
      ]
     },
     "execution_count": 4,
     "metadata": {},
     "output_type": "execute_result"
    }
   ],
   "source": [
    "OCR2str_data"
   ]
  },
  {
   "cell_type": "code",
   "execution_count": null,
   "metadata": {},
   "outputs": [],
   "source": []
  }
 ],
 "metadata": {
  "kernelspec": {
   "display_name": "Python 3",
   "language": "python",
   "name": "python3"
  },
  "language_info": {
   "codemirror_mode": {
    "name": "ipython",
    "version": 3
   },
   "file_extension": ".py",
   "mimetype": "text/x-python",
   "name": "python",
   "nbconvert_exporter": "python",
   "pygments_lexer": "ipython3",
   "version": "3.7.4"
  }
 },
 "nbformat": 4,
 "nbformat_minor": 4
}
