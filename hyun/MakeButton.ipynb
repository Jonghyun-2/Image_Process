{
 "cells": [
  {
   "cell_type": "code",
   "execution_count": 52,
   "metadata": {},
   "outputs": [],
   "source": [
    "import cv2\n",
    "import pytesseract as OCR\n",
    "import numpy as np"
   ]
  },
  {
   "cell_type": "code",
   "execution_count": 55,
   "metadata": {},
   "outputs": [],
   "source": [
    "def onMouse(event,x,y,flags,params):\n",
    "    global ix,iy,fx,fy\n",
    "    buttonLoc()\n",
    "    if event == cv2.EVENT_RBUTTONDOWN:\n",
    "        ix,iy = x,y\n",
    "        print(\"Rdown point : \",ix,iy)\n",
    "        \n",
    "    elif event == cv2.EVENT_RBUTTONUP:\n",
    "        fx,fy= x,y\n",
    "        print(\"Rup point : \",fx,fy)\n",
    "        crop_area = backgrnd[iy:fy,ix:fx,:]\n",
    "        OCR2str_data = OCR.image_to_string(crop_area,lang='eng')\n",
    "        print(OCR2str_data)\n",
    "        \n",
    "    elif event == cv2.EVENT_LBUTTONDOWN:\n",
    "        if (x in but1_x) & (y in but1_y):\n",
    "            print(\"Name func\")\n",
    "        elif (x in but2_x) & (y in but2_y):\n",
    "            print(\"Age func\")\n",
    "        elif (x in but3_x) & (y in but3_y):\n",
    "            print(\"Disease func\")\n",
    "        else :\n",
    "            print(\"out of box\")\n",
    "    return\n",
    "\n",
    "def buttonLoc():\n",
    "    global but1_x,but1_y,but2_x,but2_y,but3_x,but3_y\n",
    "    # Name button\n",
    "    but1_x = range(50,150) \n",
    "    but1_y = range(50,80)\n",
    "    # Age button\n",
    "    but2_x = range(50,150)\n",
    "    but2_y = range(100,130)\n",
    "    # Disease button\n",
    "    but3_x = range(50,150)\n",
    "    but3_y = range(150,180)   \n",
    "    return\n",
    "    \n",
    "def putText(input_img):\n",
    "    scale = 0.8\n",
    "    font = 2\n",
    "    cv2.putText(input_img,\"Name\",(but1_x[10],but1_y[-1]),font,scale,(0,0,0))\n",
    "    cv2.putText(input_img,\"Age\",(but2_x[10],but2_y[-1]),font,scale,(0,0,0))\n",
    "    cv2.putText(input_img,\"Disease\",(but3_x[5],but3_y[-1]),font,scale,(0,0,0))\n",
    "    return input_img"
   ]
  },
  {
   "cell_type": "code",
   "execution_count": 57,
   "metadata": {},
   "outputs": [
    {
     "name": "stdout",
     "output_type": "stream",
     "text": [
      "Name func\n",
      "Name func\n",
      "Age func\n",
      "Disease func\n",
      "Age func\n",
      "Name func\n",
      "out of box\n",
      "Disease func\n",
      "Age func\n",
      "Name func\n",
      "Disease func\n",
      "Age func\n",
      "Name func\n",
      "Age func\n",
      "Disease func\n",
      "out of box\n",
      "Disease func\n",
      "Age func\n",
      "Name func\n"
     ]
    }
   ],
   "source": [
    "backgrnd = np.ones((800,1300,3), dtype = np.uint8) *255\n",
    "cv2.rectangle(backgrnd,(50,50),(150,80),(219,188,143),-1)\n",
    "cv2.rectangle(backgrnd,(50,100),(150,130),(204,228,244),-1)\n",
    "cv2.rectangle(backgrnd,(50,150),(150,180),(219,214,68),-1)\n",
    "backgrnd = putText(backgrnd)\n",
    "\n",
    "cv2.namedWindow('test')\n",
    "cv2.setMouseCallback('test',onMouse)\n",
    "cv2.imshow(\"test\", backgrnd)\n",
    "while(1):\n",
    "    cv2.imshow('test',backgrnd)\n",
    "    if cv2.waitKey(20) & 0xFF == 27: # enter ESC\n",
    "        break\n",
    "        \n",
    "cv2.destroyAllWindows()"
   ]
  },
  {
   "cell_type": "code",
   "execution_count": null,
   "metadata": {},
   "outputs": [],
   "source": []
  }
 ],
 "metadata": {
  "kernelspec": {
   "display_name": "Python 3",
   "language": "python",
   "name": "python3"
  },
  "language_info": {
   "codemirror_mode": {
    "name": "ipython",
    "version": 3
   },
   "file_extension": ".py",
   "mimetype": "text/x-python",
   "name": "python",
   "nbconvert_exporter": "python",
   "pygments_lexer": "ipython3",
   "version": "3.7.5"
  }
 },
 "nbformat": 4,
 "nbformat_minor": 4
}
