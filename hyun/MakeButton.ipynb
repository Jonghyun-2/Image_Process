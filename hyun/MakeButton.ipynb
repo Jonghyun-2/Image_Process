{
 "cells": [
  {
   "cell_type": "code",
   "execution_count": 1,
   "metadata": {},
   "outputs": [],
   "source": [
    "import cv2\n",
    "\n",
    "import numpy as np"
   ]
  },
  {
   "cell_type": "code",
   "execution_count": 30,
   "metadata": {},
   "outputs": [],
   "source": [
    "def onMouse(event,x,y,flags,params):\n",
    "    buttonLoc()\n",
    "    if event == cv2.EVENT_LBUTTONDBLCLK:\n",
    "        if (x in but1_x) & (y in but1_y):\n",
    "            print(\"Name func\")\n",
    "        elif (x in but2_x) & (y in but2_y):\n",
    "            print(\"Age func\")\n",
    "        elif (x in but3_x) & (y in but3_y):\n",
    "            print(\"Disease func\")\n",
    "        elif (x in but4_x) & (y in but4_y):\n",
    "            thr = int(input(\"Threshold : \"))\n",
    "#             bin -----\n",
    "        elif (x in but5_x) & (y in but5_y):\n",
    "           print(\"symptom1\")\n",
    "        else :\n",
    "            print(\"out of box\")\n",
    "    return\n",
    "\n",
    "def buttonLoc():\n",
    "    global but1_x,but1_y,but2_x,but2_y,but3_x,but3_y,but4_x,but4_y,but5_x,but5_y\n",
    "    # Name button\n",
    "    but1_x = range(50,150) \n",
    "    but1_y = range(50,80)\n",
    "    # Age button\n",
    "    but2_x = range(50,150)\n",
    "    but2_y = range(100,130)\n",
    "    # Disease button\n",
    "    but3_x = range(50,150)\n",
    "    but3_y = range(150,180)\n",
    "    # Binary button\n",
    "    but4_x = range(50,150)\n",
    "    but4_y = range(200,230)\n",
    "    # Body temperature\n",
    "    but5_x = range(50,150)\n",
    "    but5_y = range(250,280)\n",
    "    return\n",
    "    \n",
    "def putText(input_img):\n",
    "    scale = 0.8\n",
    "    font = 2\n",
    "    cv2.putText(input_img,\"Name\",(but1_x[10],but1_y[-1]),font,scale,(0,0,0))\n",
    "    cv2.putText(input_img,\"Age\",(but2_x[10],but2_y[-1]),font,scale,(0,0,0))\n",
    "    cv2.putText(input_img,\"Disease\",(but3_x[5],but3_y[-1]),font,scale,(0,0,0))\n",
    "    cv2.putText(input_img,\"symptom1\",(but4_x[5],but4_y[-1]),font,scale,(0,0,0))\n",
    "    cv2.putText(input_img,\"symptom2\",(but5_x[5],but5_y[-1]),font,scale,(0,0,0))\n",
    "    return input_img\n",
    "\n",
    "def onmouse(event,x,y,flags,params):\n",
    "    global ix,iy,fx,fy\n",
    "\n",
    "    # Draw Rectangle\n",
    "    if event == cv2.EVENT_LBUTTONDOWN:\n",
    "        ix,iy = x,y\n",
    "        print(\"start point : \",ix,iy)       \n",
    "\n",
    "    elif event == cv2.EVENT_LBUTTONUP:\n",
    "        fx,fy= x,y\n",
    "        print(\"end point : \",fx,fy)\n",
    "        cv2.rectangle(img,(ix,iy),(fx,fy),(0,0,0),2)\n",
    "        "
   ]
  },
  {
   "cell_type": "code",
   "execution_count": 31,
   "metadata": {},
   "outputs": [
    {
     "name": "stdin",
     "output_type": "stream",
     "text": [
      "Threshold :  200\n"
     ]
    },
    {
     "name": "stdout",
     "output_type": "stream",
     "text": [
      "symptom1\n",
      "symptom1\n",
      "out of box\n",
      "symptom1\n",
      "out of box\n",
      "symptom1\n"
     ]
    }
   ],
   "source": [
    "buttonLoc()\n",
    "backgrnd = np.ones((800,1300,3), dtype = np.uint8) *255\n",
    "cv2.rectangle(backgrnd,(50,50),(150,80),(219,188,143),-1)\n",
    "cv2.rectangle(backgrnd,(50,100),(150,130),(204,228,244),-1)\n",
    "cv2.rectangle(backgrnd,(50,150),(150,180),(219,214,68),-1)\n",
    "cv2.rectangle(backgrnd,(50,200),(150,230),(0,214,68),-1)\n",
    "cv2.rectangle(backgrnd,(50,250),(150,280),(0,214,68),-1)\n",
    "cv2.circle(backgrnd,(200,100),20,(0,0,0),-1)\n",
    "backgrnd = putText(backgrnd)\n",
    "mask_img = np.zeros((100,100),dtype= np.uint8)\n",
    "# backgrnd = cv2.bitwise_and(backgrnd,backgrnd,mask = mask_img)\n",
    "cv2.namedWindow('test')\n",
    "cv2.setMouseCallback('test',onMouse)\n",
    "cv2.imshow(\"mask\",mask_img)\n",
    "cv2.imshow(\"test\", backgrnd)\n",
    "while(1):\n",
    "    cv2.imshow('test',backgrnd)\n",
    "    if cv2.waitKey(20) & 0xFF == 27: # enter ESC\n",
    "        break\n",
    "        \n",
    "cv2.destroyAllWindows()"
   ]
  },
  {
   "cell_type": "code",
   "execution_count": null,
   "metadata": {},
   "outputs": [],
   "source": []
  }
 ],
 "metadata": {
  "kernelspec": {
   "display_name": "Python 3",
   "language": "python",
   "name": "python3"
  },
  "language_info": {
   "codemirror_mode": {
    "name": "ipython",
    "version": 3
   },
   "file_extension": ".py",
   "mimetype": "text/x-python",
   "name": "python",
   "nbconvert_exporter": "python",
   "pygments_lexer": "ipython3",
   "version": "3.7.4"
  }
 },
 "nbformat": 4,
 "nbformat_minor": 4
}
