{
 "cells": [
  {
   "cell_type": "code",
   "execution_count": 4,
   "metadata": {},
   "outputs": [],
   "source": [
    "import cv2\n",
    "\n",
    "import numpy as np"
   ]
  },
  {
   "cell_type": "code",
   "execution_count": 5,
   "metadata": {},
   "outputs": [],
   "source": [
    "def onMouse(event,x,y,flags,params):\n",
    "    buttonLoc()\n",
    "    if event == cv2.EVENT_LBUTTONDBLCLK:\n",
    "        if (x in but1_x) & (y in but1_y):\n",
    "            print(\"Name func\")\n",
    "        elif (x in but2_x) & (y in but2_y):\n",
    "            print(\"Age func\")\n",
    "        elif (x in but3_x) & (y in but3_y):\n",
    "            print(\"Disease func\")\n",
    "        else :\n",
    "            print(\"out of box\")\n",
    "        \n",
    "    \n",
    "\n",
    "def buttonLoc():\n",
    "    global but1_x,but1_y,but2_x,but2_y,but3_x,but3_y\n",
    "    # Name button\n",
    "    but1_x = range(50,150) \n",
    "    but1_y = range(50,80)\n",
    "    # Age button\n",
    "    but2_x = range(50,150)\n",
    "    but2_y = range(100,130)\n",
    "    # Disease button\n",
    "    but3_x = range(50,150)\n",
    "    but3_y = range(150,180)   \n",
    "\n",
    "    \n",
    "def putText(input_img):\n",
    "    scale = 0.8\n",
    "    font = 2\n",
    "    cv2.putText(input_img,\"Name\",(but1_x[10],but1_y[-1]),font,scale,(0,0,0))\n",
    "    cv2.putText(input_img,\"Age\",(but2_x[10],but2_y[-1]),font,scale,(0,0,0))\n",
    "    cv2.putText(input_img,\"Disease\",(but3_x[5],but3_y[-1]),font,scale,(0,0,0))\n",
    "    return input_img"
   ]
  },
  {
   "cell_type": "code",
   "execution_count": 37,
   "metadata": {},
   "outputs": [
    {
     "name": "stdout",
     "output_type": "stream",
     "text": [
      "Name func\n",
      "Age func\n",
      "Disease func\n",
      "out of box\n"
     ]
    }
   ],
   "source": [
    "backgrnd = np.ones((800,1300,3), dtype = np.uint8) *255\n",
    "cv2.rectangle(backgrnd,(50,50),(150,80),(219,188,143),-1)\n",
    "cv2.rectangle(backgrnd,(50,100),(150,130),(204,228,244),-1)\n",
    "cv2.rectangle(backgrnd,(50,150),(150,180),(219,214,68),-1)\n",
    "backgrnd = putText(backgrnd)\n",
    "cv2.namedWindow('test')\n",
    "cv2.setMouseCallback('test',onMouse)\n",
    "cv2.imshow(\"test\", backgrnd)\n",
    "while(1):\n",
    "    cv2.imshow('test',backgrnd)\n",
    "    if cv2.waitKey(20) & 0xFF == 27: # enter ESC\n",
    "        break\n",
    "        \n",
    "cv2.destroyAllWindows()"
   ]
  },
  {
   "cell_type": "code",
   "execution_count": 15,
   "metadata": {},
   "outputs": [
    {
     "data": {
      "text/plain": [
       "79"
      ]
     },
     "execution_count": 15,
     "metadata": {},
     "output_type": "execute_result"
    }
   ],
   "source": [
    "but1_y[-1]"
   ]
  },
  {
   "cell_type": "code",
   "execution_count": null,
   "metadata": {},
   "outputs": [],
   "source": []
  }
 ],
 "metadata": {
  "kernelspec": {
   "display_name": "Python 3",
   "language": "python",
   "name": "python3"
  },
  "language_info": {
   "codemirror_mode": {
    "name": "ipython",
    "version": 3
   },
   "file_extension": ".py",
   "mimetype": "text/x-python",
   "name": "python",
   "nbconvert_exporter": "python",
   "pygments_lexer": "ipython3",
   "version": "3.7.4"
  }
 },
 "nbformat": 4,
 "nbformat_minor": 4
}
